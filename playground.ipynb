{
 "cells": [
  {
   "cell_type": "code",
   "execution_count": null,
   "id": "bd31ddb0",
   "metadata": {},
   "outputs": [],
   "source": [
    "import requests\n",
    "import pandas as pd\n",
    "import time\n",
    "import os"
   ]
  },
  {
   "cell_type": "code",
   "execution_count": null,
   "id": "4b2b140a",
   "metadata": {
    "scrolled": true
   },
   "outputs": [],
   "source": [
    "BASE_URL ='https://myhospitalsapi.aihw.gov.au//api/v1'\n",
    "headers = {'User-Agent': 'Mozilla/5.0 (Macintosh; Intel Mac OS X 10_15_7) AppleWebKit/537.36 (KHTML, like Gecko) Chrome/109.0.0.0 Safari/537.36'}\n",
    "measure_category_code = 'MYH-ED-TIME'"
   ]
  },
  {
   "cell_type": "code",
   "execution_count": null,
   "id": "1ccd0974",
   "metadata": {},
   "outputs": [],
   "source": [
    "def create_tables(measure_category_code: str, measure_code: str):\n",
    "    # CREATE MEASURE TABLE\n",
    "    measure_response = requests.get(f'{BASE_URL}/measure-categories/{measure_category_code}/measures', headers=headers).json()\n",
    "    measure_list = []\n",
    "    for i in measure_response['result']:\n",
    "        measure_list.append([i['measure_code'], i['measure_name']])\n",
    "    measures_df = pd.DataFrame(data=measure_list, columns=['measure_code', 'measure_name'])\n",
    "    measures_df.name = 'measures'\n",
    "    # CREATE VALUES TABLE\n",
    "    value_response = requests.get(f'{BASE_URL}/measures/{measure_code}/data-items', headers=headers).json()\n",
    "    value_list = []\n",
    "    for result in value_response['result']:\n",
    "        value_list.append([result['reported_measure_code'], result['reporting_unit_summary']['reporting_unit_code'], result['value']])\n",
    "    values_df = pd.DataFrame(data=value_list, columns=['reported_measure_code', 'reporting_unit_code', 'value'])\n",
    "    values_df.name = 'values'\n",
    "    # CREATE REPORTED MEASURES TABLE\n",
    "    reported_measure_code_list = list(values_df['reported_measure_code'].unique())\n",
    "    reported_measure_list = []\n",
    "    for reported_measure_code in reported_measure_code_list:\n",
    "        reported_measure_response = requests.get(f'{BASE_URL}/reported-measures/{reported_measure_code}', headers=headers).json()\n",
    "        reported_measure_list.append([reported_measure_code, reported_measure_response['result']['reported_measure_name']])\n",
    "    reported_measures_df = pd.DataFrame(data=reported_measure_list, columns=['reported_measure_code', 'reported_measure_name'])\n",
    "    reported_measures_df.name = 'reported_measures'\n",
    "    # CREATE REPORTING UNITS TABLE\n",
    "    reporting_unit_response = requests.get(f'{BASE_URL}/reporting-units', headers=headers).json()   \n",
    "\n",
    "    reporting_unit_list = []\n",
    "    for result in reporting_unit_response['result']:\n",
    "        # GET STATE\n",
    "        mapped_reporting_units = result['mapped_reporting_units']\n",
    "        state = None\n",
    "        for mapped_reporting_unit in mapped_reporting_units:\n",
    "            if mapped_reporting_unit['map_type']['mapped_reporting_unit_code'] == \"STATE_MAPPING\":\n",
    "                state = mapped_reporting_unit['mapped_reporting_unit']['reporting_unit_code']\n",
    "                break # Set state as the first reporting_unit_code in mapped_reporting_units\n",
    "\n",
    "        # GET REPORTING UNIT INFO\n",
    "        reporting_unit_list.append([result['reporting_unit_code'], result['reporting_unit_name'], result['reporting_unit_type']['reporting_unit_type_code'], result['reporting_unit_type']['reporting_unit_type_name'], state, result['closed'], result['private'], result['latitude'], result['longitude']])\n",
    "\n",
    "    reporting_units_df = pd.DataFrame(data=reporting_unit_list, columns=['reporting_unit_code', 'reporting_unit_name', 'reporting_unit_type_code', 'reporting_unit_type_name', 'state', 'closed', 'private', 'latitude', 'longitude'])\n",
    "    reporting_units_df.name = 'reporting_units'\n",
    "    # JOIN VALUES TABLE, REPORTED MEASURES TABLE AND REPORTING UNITS TABLE\n",
    "    df_join = pd.merge(values_df, reported_measures_df, on='reported_measure_code',how='inner')\n",
    "    df_join = pd.merge(df_join, reporting_units_df, on='reporting_unit_code',how='inner')\n",
    "    \n",
    "    #SELECT COLUMNS\n",
    "    df_select = df_join[['reporting_unit_name', 'reported_measure_name', 'value']]\n",
    "    df_select.name = 'select'\n",
    "    # CREATE LIST OF DATAFRAMES\n",
    "    df_list = [measures_df, values_df, reported_measures_df, reporting_units_df]\n",
    "    return df_list"
   ]
  },
  {
   "cell_type": "code",
   "execution_count": null,
   "id": "000e109f",
   "metadata": {
    "scrolled": true
   },
   "outputs": [],
   "source": [
    "create_tables('MYH-ED-TIME', 'MYH0036')[1].head()\n",
    "# %timeit create_table('MYH-ED-TIME', MYH0036')"
   ]
  },
  {
   "cell_type": "code",
   "execution_count": null,
   "id": "36a1d501",
   "metadata": {},
   "outputs": [],
   "source": [
    "'''\n",
    "CREATE MEASURE TABLE\n",
    "EXAMPLE URL: https://myhospitalsapi.aihw.gov.au//api/v1/measure-categories/MYH-ED-TIME/measures\n",
    "'''\n",
    "measure_response = requests.get(f'{BASE_URL}/measure-categories/{measure_category_code}/measures', headers=headers).json()\n",
    "measure_list = []\n",
    "for i in measure_response['result']:\n",
    "    measure_list.append([i['measure_code'], i['measure_name']])\n",
    "measures_df = pd.DataFrame(data=measure_list, columns=['measure_code', 'measure_name'])\n",
    "measures_df.head()"
   ]
  },
  {
   "cell_type": "code",
   "execution_count": null,
   "id": "864ebf18",
   "metadata": {},
   "outputs": [],
   "source": [
    "'''\n",
    "CREATE VALUES TABLE\n",
    "EXAMPLE URL: https://myhospitalsapi.aihw.gov.au//api/v1/measures/MYH0036/data-items\n",
    "'''\n",
    "measure_code = 'MYH0036'\n",
    "value_response = requests.get(f'{BASE_URL}/measures/{measure_code}/data-items', headers=headers).json()\n",
    "value_list = []\n",
    "for result in value_response['result']:\n",
    "    value_list.append([result['reported_measure_code'], result['reporting_unit_summary']['reporting_unit_code'], result['value']])\n",
    "values_df = pd.DataFrame(data=value_list, columns=['reported_measure_code', 'reporting_unit_code', 'value'])\n",
    "values_df.head()"
   ]
  },
  {
   "cell_type": "code",
   "execution_count": null,
   "id": "a1b22ffe",
   "metadata": {
    "scrolled": false
   },
   "outputs": [],
   "source": [
    "'''\n",
    "CREATE REPORTED MEASURES TABLE\n",
    "EXAMPLE URL: https://myhospitalsapi.aihw.gov.au//api/v1/reported-measures/MYH-RM0025\n",
    "'''\n",
    "reported_measure_code_list = list(values_df['reported_measure_code'].unique())\n",
    "\n",
    "reported_measure_list = []\n",
    "for reported_measure_code in reported_measure_code_list:\n",
    "    reported_measure_response = requests.get(f'{BASE_URL}/reported-measures/{reported_measure_code}', headers=headers).json()\n",
    "    reported_measure_list.append([reported_measure_code, reported_measure_response['result']['reported_measure_name']])\n",
    "reported_measures_df = pd.DataFrame(data=reported_measure_list, columns=['reported_measure_code', 'reported_measure_name'])\n",
    "reported_measures_df.head()"
   ]
  },
  {
   "cell_type": "code",
   "execution_count": null,
   "id": "c78fa697",
   "metadata": {
    "scrolled": true
   },
   "outputs": [],
   "source": [
    "'''\n",
    "CREATE REPORTING UNITS TABLE\n",
    "EXAMPLE URL: https://myhospitalsapi.aihw.gov.au/api/v1/reporting-units\n",
    "'''\n",
    "reporting_unit_response = requests.get(f'{BASE_URL}/reporting-units', headers=headers).json()   \n",
    "\n",
    "reporting_unit_list = []\n",
    "for result in reporting_unit_response['result']:\n",
    "    # GET STATE\n",
    "    mapped_reporting_units = result['mapped_reporting_units']\n",
    "    state = None\n",
    "    for mapped_reporting_unit in mapped_reporting_units:\n",
    "        if mapped_reporting_unit['map_type']['mapped_reporting_unit_code'] == \"STATE_MAPPING\":\n",
    "            state = mapped_reporting_unit['mapped_reporting_unit']['reporting_unit_code']\n",
    "            break # Set state as the first reporting_unit_code in mapped_reporting_units\n",
    "    \n",
    "    # GET REPORTING UNIT INFO\n",
    "    reporting_unit_list.append([result['reporting_unit_code'], result['reporting_unit_name'], result['reporting_unit_type']['reporting_unit_type_code'], result['reporting_unit_type']['reporting_unit_type_name'], state, result['closed'], result['private'], result['latitude'], result['longitude']])\n",
    "    \n",
    "reporting_units_df = pd.DataFrame(data=reporting_unit_list, columns=['reporting_unit_code', 'reporting_unit_name', 'reporting_unit_type_code', 'reporting_unit_type_name', 'state', 'closed', 'private', 'latitude', 'longitude',])\n",
    "reporting_units_df.head()"
   ]
  },
  {
   "cell_type": "code",
   "execution_count": null,
   "id": "7b417b37",
   "metadata": {
    "scrolled": true
   },
   "outputs": [],
   "source": [
    "'''\n",
    "JOIN VALUES TABLE, REPORTED MEASURES TABLE AND REPORTING UNITS TABLE\n",
    "'''\n",
    "df_join = pd.merge(values_df, reported_measures_df, on='reported_measure_code',how='inner')\n",
    "df_join = pd.merge(df_join, reporting_units_df, on='reporting_unit_code',how='inner')\n",
    "df_join.head()"
   ]
  },
  {
   "cell_type": "code",
   "execution_count": null,
   "id": "9f1d77e3",
   "metadata": {
    "scrolled": true
   },
   "outputs": [],
   "source": [
    "'''\n",
    "SELECT COLUMNS\n",
    "'''\n",
    "df_select = df_join[['reporting_unit_name', 'reported_measure_name', 'value']]\n",
    "df_select.head()"
   ]
  },
  {
   "cell_type": "code",
   "execution_count": 7,
   "id": "b8a5e478",
   "metadata": {
    "scrolled": false
   },
   "outputs": [],
   "source": [
    "# SPARK (CLOUD)\n",
    "import pyspark\n",
    "from pyspark.sql import SparkSession\n",
    "from pyspark.conf import SparkConf\n",
    "from pyspark.context import SparkContext\n",
    "\n",
    "credentials_location = '/home/kelvin/.gc/gc-key.json'\n",
    "\n",
    "conf = SparkConf() \\\n",
    "    .setMaster('local[*]') \\\n",
    "    .setAppName('test') \\\n",
    "    .set(\"spark.jars\", \"/home/kelvin/spark/spark-3.3.1-bin-hadoop3/lib/gcs-connector-hadoop3-2.2.5.jar\") \\\n",
    "    .set(\"spark.hadoop.google.cloud.auth.service.account.enable\", \"true\") \\\n",
    "    .set(\"spark.hadoop.google.cloud.auth.service.account.json.keyfile\", credentials_location)\n",
    "\n",
    "sc = SparkContext.getOrCreate(conf=conf)\n",
    "\n",
    "hadoop_conf = sc._jsc.hadoopConfiguration()\n",
    "\n",
    "hadoop_conf.set(\"fs.AbstractFileSystem.gs.impl\",  \"com.google.cloud.hadoop.fs.gcs.GoogleHadoopFS\")\n",
    "hadoop_conf.set(\"fs.gs.impl\", \"com.google.cloud.hadoop.fs.gcs.GoogleHadoopFileSystem\")\n",
    "hadoop_conf.set(\"fs.gs.auth.service.account.json.keyfile\", credentials_location)\n",
    "hadoop_conf.set(\"fs.gs.auth.service.account.enable\", \"true\")\n",
    "\n",
    "spark = SparkSession.builder \\\n",
    "    .config(conf=sc.getConf()) \\\n",
    "    .getOrCreate()"
   ]
  },
  {
   "cell_type": "code",
   "execution_count": null,
   "id": "37e24c7b",
   "metadata": {
    "scrolled": false
   },
   "outputs": [],
   "source": [
    "# Load data to local disk as parquet files\n",
    "directory = 'data/MYH0036'\n",
    "if not os.path.exists(directory):\n",
    "    os.makedirs(directory)\n",
    "df_list = create_tables('MYH-ED-TIME', 'MYH0036')\n",
    "for df in df_list:\n",
    "    file_path = os.path.join(directory, f'{df.name}.parquet')\n",
    "    df.to_parquet(file_path)"
   ]
  },
  {
   "cell_type": "code",
   "execution_count": null,
   "id": "09b28a7d",
   "metadata": {
    "scrolled": false
   },
   "outputs": [],
   "source": [
    "# Partition reporting_units.parquet and values.parquet\n",
    "for filename in ['reporting_units.parquet', 'values.parquet']:\n",
    "    input_path = f'{directory}/{filename}'\n",
    "    output_path = f'{directory}/{os.path.splitext(filename)[0]}'\n",
    "    df = spark.read \\\n",
    "        .option(\"header\", \"true\") \\\n",
    "        .parquet(input_path)\n",
    "    df \\\n",
    "        .repartition(24) \\\n",
    "        .write.parquet(output_path, mode='overwrite')"
   ]
  },
  {
   "cell_type": "code",
   "execution_count": null,
   "id": "a5c003b2",
   "metadata": {
    "scrolled": true
   },
   "outputs": [],
   "source": [
    "pd.read_parquet(f'{directory}/reporting_units.parquet')"
   ]
  },
  {
   "cell_type": "code",
   "execution_count": null,
   "id": "bbaabd34",
   "metadata": {},
   "outputs": [],
   "source": [
    "# Load data to GCS\n",
    "!gsutil -m cp -r data/MYH0036 gs://de-project-bucket/data/MYH0036"
   ]
  },
  {
   "cell_type": "code",
   "execution_count": 8,
   "id": "bd40b2d7",
   "metadata": {
    "scrolled": true
   },
   "outputs": [
    {
     "name": "stdout",
     "output_type": "stream",
     "text": [
      "+-------------------+--------------------+------------------------+------------------------+-----+------+-------+----------+----------+\n",
      "|reporting_unit_code| reporting_unit_name|reporting_unit_type_code|reporting_unit_type_name|state|closed|private|  latitude| longitude|\n",
      "+-------------------+--------------------+------------------------+------------------------+-----+------+-------+----------+----------+\n",
      "|              H0012|State Forensic Me...|                       H|                Hospital|   WA| false|  false|-31.960937|115.788431|\n",
      "|              H0013|Justice Health Se...|                       H|                Hospital|  NSW| false|  false| -33.96907|151.243206|\n",
      "|              H0014|The Children's Ho...|                       H|                Hospital|  NSW| false|  false|-33.801554|150.991759|\n",
      "|              H0015|Sydney Children's...|                       H|                Hospital|  NSW| false|  false|-33.917179|151.238334|\n",
      "|              H0016|Sacred Heart Heal...|                       H|                Hospital|  NSW| false|  false|-33.880525|151.219237|\n",
      "|              H0017|St Vincent's Hosp...|                       H|                Hospital|  NSW| false|  false|-33.879692|151.221125|\n",
      "|              H0018|St Joseph's Hospital|                       H|                Hospital|  NSW| false|  false|-33.848659|151.028339|\n",
      "|              H0019|    Balmain Hospital|                       H|                Hospital|  NSW| false|  false|-33.859469|151.181469|\n",
      "|              H0020| Canterbury Hospital|                       H|                Hospital|  NSW| false|  false|-33.919592|151.098275|\n",
      "|              H0021|Royal Prince Alfr...|                       H|                Hospital|  NSW| false|  false|-33.889251|151.182926|\n",
      "|              H0022|Tresillian Care C...|                       H|                Hospital|  NSW| false|  false|-33.918732|151.097526|\n",
      "|              H0023|Concord Repatriat...|                       H|                Hospital|  NSW| false|  false|-33.837288|151.092664|\n",
      "|              H0024|Royal Prince Alfr...|                       H|                Hospital|  NSW| false|  false| -33.88828|151.180707|\n",
      "|              H0025|            Karitane|                       H|                Hospital|  NSW| false|  false|-33.879777|150.965763|\n",
      "|              H0026|     Camden Hospital|                       H|                Hospital|  NSW| false|  false|-34.062702|150.693297|\n",
      "|              H0027|  Fairfield Hospital|                       H|                Hospital|  NSW| false|  false|-33.860117|150.904339|\n",
      "|              H0028|  Liverpool Hospital|                       H|                Hospital|  NSW| false|  false|-33.919966|150.930776|\n",
      "|              H0029|Campbelltown Hosp...|                       H|                Hospital|  NSW| false|  false|-34.077651|150.806321|\n",
      "|              H0030|Bankstown Lidcomb...|                       H|                Hospital|  NSW| false|  false|-33.933088|151.020823|\n",
      "|              H0031|   Braeside Hospital|                       H|                Hospital|  NSW| false|  false|-33.861917|150.902192|\n",
      "+-------------------+--------------------+------------------------+------------------------+-----+------+-------+----------+----------+\n",
      "only showing top 20 rows\n",
      "\n"
     ]
    }
   ],
   "source": [
    "# You can read partitioned parquet files by parsing the directory to speak.read.parquet\n",
    "bucket_name = \"de-project-bucket\"\n",
    "file_path = \"data/MYH0036/reporting_units.parquet\"\n",
    "reporting_units_df = spark.read.parquet(f'gs://{bucket_name}/{file_path}')\n",
    "reporting_units_df.show()"
   ]
  },
  {
   "cell_type": "code",
   "execution_count": null,
   "id": "873c8e8a",
   "metadata": {},
   "outputs": [],
   "source": [
    "output_table = 'MYH0036.reporting_units'\n",
    "reporting_units_df.write.format('bigquery') \\\n",
    "    .option('table', output) \\\n",
    "    .save()"
   ]
  },
  {
   "cell_type": "code",
   "execution_count": null,
   "id": "13b596b3",
   "metadata": {},
   "outputs": [],
   "source": [
    "'''TO DO\n",
    "FILTER BY\n",
    "reporting_unit_code\n",
    "reported_measure_code\n",
    "\n",
    "Check other measures e.g. number of presentations\n",
    "\n",
    "Load pandas df to spark df and partition + cluster\n",
    "\n",
    "Create a udf\n",
    "\n",
    "'''"
   ]
  },
  {
   "cell_type": "code",
   "execution_count": null,
   "id": "e590e878",
   "metadata": {},
   "outputs": [],
   "source": [
    "# CONVERT PANDAS DF TO SPARK DF\n",
    "\n",
    "# LOAD INTO GCS\n",
    "\n",
    "# READ FILES FROM GCS WITH PYSPARK AND LOAD TO BIGQUERY"
   ]
  }
 ],
 "metadata": {
  "kernelspec": {
   "display_name": "Python 3 (ipykernel)",
   "language": "python",
   "name": "python3"
  },
  "language_info": {
   "codemirror_mode": {
    "name": "ipython",
    "version": 3
   },
   "file_extension": ".py",
   "mimetype": "text/x-python",
   "name": "python",
   "nbconvert_exporter": "python",
   "pygments_lexer": "ipython3",
   "version": "3.9.13"
  }
 },
 "nbformat": 4,
 "nbformat_minor": 5
}
